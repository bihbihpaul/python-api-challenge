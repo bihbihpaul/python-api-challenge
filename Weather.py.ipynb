{
 "cells": [
  {
   "cell_type": "markdown",
   "id": "d8349f94",
   "metadata": {},
   "source": [
    "# Dependencies and SetUp"
   ]
  },
  {
   "cell_type": "code",
   "execution_count": 2,
   "id": "00e490a2",
   "metadata": {},
   "outputs": [
    {
     "ename": "ModuleNotFoundError",
     "evalue": "No module named 'gmaps'",
     "output_type": "error",
     "traceback": [
      "\u001b[1;31m---------------------------------------------------------------------------\u001b[0m",
      "\u001b[1;31mModuleNotFoundError\u001b[0m                       Traceback (most recent call last)",
      "\u001b[1;32m<ipython-input-2-3dc0a1a13859>\u001b[0m in \u001b[0;36m<module>\u001b[1;34m\u001b[0m\n\u001b[0;32m      4\u001b[0m \u001b[1;32mimport\u001b[0m \u001b[0mnumpy\u001b[0m \u001b[1;32mas\u001b[0m \u001b[0mnp\u001b[0m\u001b[1;33m\u001b[0m\u001b[1;33m\u001b[0m\u001b[0m\n\u001b[0;32m      5\u001b[0m \u001b[1;32mimport\u001b[0m \u001b[0mrequests\u001b[0m\u001b[1;33m\u001b[0m\u001b[1;33m\u001b[0m\u001b[0m\n\u001b[1;32m----> 6\u001b[1;33m \u001b[1;32mimport\u001b[0m \u001b[0mgmaps\u001b[0m\u001b[1;33m\u001b[0m\u001b[1;33m\u001b[0m\u001b[0m\n\u001b[0m\u001b[0;32m      7\u001b[0m \u001b[1;32mimport\u001b[0m \u001b[0mos\u001b[0m\u001b[1;33m\u001b[0m\u001b[1;33m\u001b[0m\u001b[0m\n\u001b[0;32m      8\u001b[0m \u001b[1;33m\u001b[0m\u001b[0m\n",
      "\u001b[1;31mModuleNotFoundError\u001b[0m: No module named 'gmaps'"
     ]
    }
   ],
   "source": [
    "# Dependencies and Setup\n",
    "import matplotlib.pyplot as plt\n",
    "import pandas as pd\n",
    "import numpy as np\n",
    "import requests\n",
    "import gmaps\n",
    "import os\n",
    "\n",
    "# Import API key\n",
    "from api_keys import gkey\n",
    "\n",
    "# Configure gmaps\n",
    "gmaps.configure(api_key=gkey)"
   ]
  },
  {
   "cell_type": "markdown",
   "id": "a33116cd",
   "metadata": {},
   "source": [
    "# Load csv exported from WeatherPy to a DataFrame"
   ]
  },
  {
   "cell_type": "code",
   "execution_count": null,
   "id": "b2da75cc",
   "metadata": {},
   "outputs": [],
   "source": [
    "csv_file = 'output_data/cities.csv'\n",
    "cities_df = pd.read_csv(csv_file)\n",
    "cities_df.head()"
   ]
  },
  {
   "cell_type": "markdown",
   "id": "08f601bf",
   "metadata": {},
   "source": [
    "# Humidity Heatmap"
   ]
  },
  {
   "cell_type": "code",
   "execution_count": null,
   "id": "0e01ccbf",
   "metadata": {},
   "outputs": [],
   "source": [
    "locations = cities_df[['Lat','Lng']]\n",
    "weight = cities_df['Humidity']\n",
    "max_intensity = weight.max()\n",
    "\n",
    "# Plot Heatmap\n",
    "fig = gmaps.figure(center=(46.0,-5.0), zoom_level=2)\n",
    "\n",
    "# Create heat layer\n",
    "heat_layer = gmaps.heatmap_layer(locations, weights= weight, dissipating=False, max_intensity=max_intensity, point_radius=1)\n",
    "\n",
    "# Add Layer\n",
    "fig.add_layer(heat_layer)\n",
    "\n",
    "# Display figure\n",
    "fig"
   ]
  },
  {
   "cell_type": "markdown",
   "id": "748fcf4c",
   "metadata": {},
   "source": [
    "# Create new DataFrame fitting weather criteria"
   ]
  },
  {
   "cell_type": "code",
   "execution_count": null,
   "id": "3c1d5c8f",
   "metadata": {},
   "outputs": [],
   "source": [
    "# Filter the data to fit the ideal weather condition\n",
    "ideal_weather = cities_df.loc[(cities_df['Max Temp'] >= 75) & (cities_df['Max Temp'] < 85) & \\\n",
    "                              (cities_df['Wind Speed'] < 10) & (cities_df['Cloudiness'] < 10) & \\\n",
    "                              (cities_df['Humidity'] < 60) & (cities_df['Humidity'] >= 40)].dropna()"
   ]
  },
  {
   "cell_type": "code",
   "execution_count": null,
   "id": "3980c074",
   "metadata": {},
   "outputs": [],
   "source": []
  },
  {
   "cell_type": "code",
   "execution_count": null,
   "id": "b6eb0c80",
   "metadata": {},
   "outputs": [],
   "source": [
    "# Print new total count of cities\n",
    "city_number = ideal_weather['City'].count()\n",
    "city_number_ori = cities_df['City'].count()\n",
    "\n",
    "print(f'After cleaning the data, there are a new total of {city_number} out of {city_number_ori} cities that fit within the ideal weather')"
   ]
  },
  {
   "cell_type": "markdown",
   "id": "faff4b4d",
   "metadata": {},
   "source": [
    "# Hotel Map"
   ]
  },
  {
   "cell_type": "code",
   "execution_count": null,
   "id": "7ab42da3",
   "metadata": {},
   "outputs": [],
   "source": [
    "# Create hotel_df\n",
    "hotel_df = ideal_weather.loc[:,[\"City\",'Country','Lat','Lng']]\n",
    "\n",
    "# Add a new column Hotel Name\n",
    "hotel_df['Hotel Name'] = \"\"\n",
    "\n",
    "# Display hotel_df\n",
    "hotel_df.head()"
   ]
  },
  {
   "cell_type": "code",
   "execution_count": null,
   "id": "269d79ad",
   "metadata": {},
   "outputs": [],
   "source": []
  },
  {
   "cell_type": "code",
   "execution_count": null,
   "id": "dad660b2",
   "metadata": {},
   "outputs": [],
   "source": [
    "url = \"https://maps.googleapis.com/maps/api/place/nearbysearch/json\"\n",
    "params = {'type':'hotel',\n",
    "         'keyword':'hotel',\n",
    "         'radius': 5000,\n",
    "         'key': gkey}"
   ]
  },
  {
   "cell_type": "code",
   "execution_count": null,
   "id": "4422b56d",
   "metadata": {},
   "outputs": [],
   "source": []
  },
  {
   "cell_type": "code",
   "execution_count": null,
   "id": "51340351",
   "metadata": {},
   "outputs": [],
   "source": [
    "for index, row in hotel_df.iterrows():\n",
    "    # get city name, lat, lnt from df\n",
    "    lat = row[\"Lat\"]\n",
    "    lng = row[\"Lng\"]\n",
    "    city_name = row[\"City\"]\n",
    "    \n",
    "    # add keyword to params dict\n",
    "    params[\"location\"] = f\"{lat},{lng}\"\n",
    "\n",
    "    # assemble url and make API request\n",
    "    print(f\"Retrieving Results for Index {index}: {city_name}.\")\n",
    "    response = requests.get(url, params=params).json()\n",
    "    \n",
    "    # extract results\n",
    "    results = response['results']\n",
    "    \n",
    "    # save the hotel name to dataframe\n",
    "    try:\n",
    "        print(f\"Closest hotel in {city_name} is {results[0]['name']}.\")\n",
    "        hotel_df.loc[index, \"Hotel Name\"] = results[0]['name']\n",
    "\n",
    "    # if there is no hotel available, replace with NaN\n",
    "    except (KeyError, IndexError):\n",
    "        print(\"Missing field/result... skipping.\")\n",
    "        hotel_df.loc[index, \"Hotel Name\"] = np.nan\n",
    "        \n",
    "    print(\"------------\")\n",
    "\n",
    "# Print end of search once searching is completed\n",
    "print(\"-------End of Search-------\")"
   ]
  },
  {
   "cell_type": "code",
   "execution_count": null,
   "id": "97c42ce5",
   "metadata": {},
   "outputs": [],
   "source": []
  },
  {
   "cell_type": "code",
   "execution_count": null,
   "id": "9bec7bb4",
   "metadata": {},
   "outputs": [],
   "source": [
    "hotel_df"
   ]
  },
  {
   "cell_type": "code",
   "execution_count": null,
   "id": "be9d6ce9",
   "metadata": {},
   "outputs": [],
   "source": []
  },
  {
   "cell_type": "code",
   "execution_count": null,
   "id": "ba2c53ae",
   "metadata": {},
   "outputs": [],
   "source": [
    "# Reset index of hotel_df and drop rows with NaN values\n",
    "hotel_df = hotel_df.reset_index(drop=True)\n",
    "clean_hotel_df = hotel_df.dropna(subset=[\"Hotel Name\"],axis=0)\n",
    "clean_hotel_df"
   ]
  },
  {
   "cell_type": "code",
   "execution_count": null,
   "id": "e249c970",
   "metadata": {},
   "outputs": [],
   "source": []
  },
  {
   "cell_type": "code",
   "execution_count": null,
   "id": "864f9672",
   "metadata": {},
   "outputs": [],
   "source": [
    "# NOTE: Do not change any of the code in this cell\n",
    "\n",
    "# Using the template add the hotel marks to the heatmap\n",
    "info_box_template = \"\"\"\n",
    "<dl>\n",
    "<dt>Name</dt><dd>{Hotel Name}</dd>\n",
    "<dt>City</dt><dd>{City}</dd>\n",
    "<dt>Country</dt><dd>{Country}</dd>\n",
    "</dl>\n",
    "\"\"\"\n",
    "# Store the DataFrame Row\n",
    "# NOTE: be sure to update with your DataFrame name\n",
    "#hotel_info = [info_box_template.format(**row) for index, row in narrowed_city_df.iterrows()]\n",
    "hotel_info = [info_box_template.format(**row) for index, row in hotel_df.iterrows()]\n",
    "locations = hotel_df[[\"Lat\", \"Lng\"]]"
   ]
  },
  {
   "cell_type": "code",
   "execution_count": null,
   "id": "57964158",
   "metadata": {},
   "outputs": [],
   "source": []
  },
  {
   "cell_type": "code",
   "execution_count": null,
   "id": "0613c69b",
   "metadata": {},
   "outputs": [],
   "source": [
    "# Add marker layer and info box content ontop of heat map\n",
    "markers = gmaps.marker_layer(locations, info_box_content = hotel_info)\n",
    "\n",
    "# Add the layer to the map\n",
    "fig.add_layer(markers)\n",
    "\n",
    "# Display Map\n",
    "fig"
   ]
  }
 ],
 "metadata": {
  "kernelspec": {
   "display_name": "venv",
   "language": "python",
   "name": "venv"
  },
  "language_info": {
   "codemirror_mode": {
    "name": "ipython",
    "version": 3
   },
   "file_extension": ".py",
   "mimetype": "text/x-python",
   "name": "python",
   "nbconvert_exporter": "python",
   "pygments_lexer": "ipython3",
   "version": "3.6.13"
  }
 },
 "nbformat": 4,
 "nbformat_minor": 5
}
